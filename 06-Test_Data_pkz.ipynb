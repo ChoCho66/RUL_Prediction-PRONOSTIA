{
  "cells": [
    {
      "cell_type": "markdown",
      "metadata": {
        "id": "Gq5DTaoUbnau"
      },
      "source": [
        "Converting all the files of test data set directories (Bearing1_3, Bearing1_4, Bearing1_5, Bearing1_6, Bearing1_7, Bearing2_3, Bearing2_4, Bearing2_5, Bearing2_6, Bearing2_7, Bearing3_3) into single combined pickle(.pkz) files(bearing1_3.pkz, bearing1_4.pkz, bearing1_5.pkz, bearing1_6.pkz, bearing1_7.pkz, bearing2_3.pkz, bearing2_4.pkz, bearing2_5.pkz, bearing2_6.pkz, bearing2_7.pkz, bearing3_3.pkz) for easy data access and faster data retrieval. All the files of Bearing1_3 directory stored as bearing1_1.pkz file (that means all files data of Bearing1_1 directory present in bearing1_1.pkz file as a single file), same for Bearing1_4, Bearing1_5, Bearing1_6, Bearing1_7, Bearing2_3, Bearing2_4, Bearing2_5, Bearing2_6, Bearing2_7, Bearing3_3)"
      ]
    },
    {
      "cell_type": "markdown",
      "metadata": {
        "id": "69BAU_k-cyKL"
      },
      "source": [
        "#Mounting Google Drive"
      ]
    },
    {
      "cell_type": "code",
      "execution_count": 1,
      "metadata": {
        "colab": {
          "base_uri": "https://localhost:8080/"
        },
        "id": "dNDBoJnTulFE",
        "outputId": "d0d3b161-ec84-4969-fdfa-0da00632091f"
      },
      "outputs": [
        {
          "data": {
            "text/plain": [
              "'\\nMounting => Before your computer can use any kind of storage device (such as hard drive, Google drive), you or your operating system must make it\\naccessible through the computer’s file system. This process is called mounting. You can only access files on mounted media.\\nIn Computers, to mount is to make a group of files in a file system structure accessible to a user or user group. In some usages, it means to make a\\ndevice physically accessible. Mounting a file system (Google drive) attaches that Google drive to a directory (mount  point) and makes it available to the\\nsystem. In simple words, with mounting a Google drive, user and operating system can access to all the files present in the Google drive. A mounted disk \\n(a mounted drive) is available to the operating system as a file system, for reading, writing, or both.\\n'"
            ]
          },
          "execution_count": 1,
          "metadata": {},
          "output_type": "execute_result"
        }
      ],
      "source": [
        "'''\n",
        "Mounting => Before your computer can use any kind of storage device (such as hard drive, Google drive), you or your operating system must make it\n",
        "accessible through the computer’s file system. This process is called mounting. You can only access files on mounted media.\n",
        "In Computers, to mount is to make a group of files in a file system structure accessible to a user or user group. In some usages, it means to make a\n",
        "device physically accessible. Mounting a file system (Google drive) attaches that Google drive to a directory (mount  point) and makes it available to the\n",
        "system. In simple words, with mounting a Google drive, user and operating system can access to all the files present in the Google drive. A mounted disk \n",
        "(a mounted drive) is available to the operating system as a file system, for reading, writing, or both.\n",
        "'''\n",
        "# from google.colab import drive\n",
        "# drive.mount('/content/drive')"
      ]
    },
    {
      "cell_type": "code",
      "execution_count": 6,
      "metadata": {
        "colab": {
          "base_uri": "https://localhost:8080/"
        },
        "id": "OwM5zzh8OmW3",
        "outputId": "136ef846-f751-4cf2-d666-57a4fd25e561"
      },
      "outputs": [
        {
          "name": "stdout",
          "output_type": "stream",
          "text": [
            "datas/bearing1_3.pkz saved\n",
            "datas/bearing1_4.pkz saved\n",
            "datas/bearing1_5.pkz saved\n",
            "datas/bearing1_6.pkz saved\n",
            "datas/bearing1_7.pkz saved\n",
            "datas/bearing2_3.pkz saved\n",
            "datas/bearing2_4.pkz saved\n",
            "datas/bearing2_5.pkz saved\n",
            "datas/bearing2_6.pkz saved\n",
            "datas/bearing2_7.pkz saved\n",
            "datas/bearing3_3.pkz saved\n"
          ]
        }
      ],
      "source": [
        "'''\n",
        "Python library = python library is the collection of modules(= python files) and this python library is the reusable(=able to use again) chunk(= part, section\n",
        ", block) of code we want to include in our python programs or projects to make the implementation easier and faster.\n",
        "\n",
        "os module in python provides functions for interacting with the operating system. os module in Python provides functions for creating and removing a \n",
        "directory(folder), fetching its contents, os module used for changing and identifying the current directory, etc. Basically os module allows source code\n",
        "to communicate (interact) with operating system.\n",
        "\n",
        "numpy module allows us to work with numerical data. numpy provides an object called numpy array. numpy supports large multi-dimensional arrays & matrices. \n",
        "Basically numpy is a python library used for working with arrays. numpy used for arithmetic operations, statistical operations, bitwise operations, copying \n",
        "and viewing arrays, stacking, matrix operations, linear algebra, mathematical operations, searching, sorting, and counting.\n",
        "\n",
        "pandas library is used for data manipulation and data analysis. pandas module works with the tabular data (i.e. data in rows and columns). Pandas provide a\n",
        "2D table object called dataframe. pandas module offers data structures and operations for manipulating numerical tables and time series.\n",
        "\n",
        "Pickle in Python is primarily used in serializing and deserializing a Python object structure. In other words, it's the process of converting a python\n",
        "object into a byte stream to store it in a file/database. Basically pickle library is used to dump (store) all the files of a directory (folder) into \n",
        "single combined file (pickle(.pkz) file) for easy fetching and fast retrieval of data. pickle.dump() is used to create a pickle file, it is used to dump\n",
        "(store) data in a pickle file. pickle.load() is used to load(= start, activate) pickle file\n",
        "\n",
        "as keyword is used as alias (AKA, also called as)\n",
        "'''\n",
        "import os\n",
        "import numpy as np\n",
        "import pandas as pd\n",
        "import pickle as pkl\n",
        "\n",
        "\n",
        "\n",
        "'''\n",
        "vibration sample frequency 25.6 KHz => for 1 second we get 25600 points \n",
        "each 10 seconds one vibration recording of 0.1s is collected => 2560 points in each file\n",
        "\n",
        "for example,\n",
        "Bearing1_7 set has total 1502 files, each file with 2560 data points => 1502*2560=3845120 total data points \n",
        "'''\n",
        "\n",
        "def read_data_as_df(base_dir):\n",
        "  '''\n",
        "  saves each file in the base_dir as a df and concatenate all dfs into one\n",
        "  '''\n",
        "  if base_dir[-1]!='/':\n",
        "    base_dir += '/'\n",
        "\n",
        "  dfs=[]\n",
        "  for f in sorted(os.listdir(base_dir)):\n",
        "    # print(f)\n",
        "    if 'acc' in f:\n",
        "        df=pd.read_csv(base_dir+f, header=None, names=['hour', 'minute', 'second', 'microsecond', 'horiz accel', 'vert accel'])\n",
        "        dfs.append(df)\n",
        "  return pd.concat(dfs)\n",
        "\n",
        "def process(base_dir, out_file):\n",
        "  '''\n",
        "  dumps combined dataframes into pkz (pickle) files for faster retreival\n",
        "  '''\n",
        "  df=read_data_as_df(base_dir)\n",
        "  _ = [ f for f in os.listdir(base_dir) if 'acc' in f ]\n",
        "#   assert df.shape[0]==len(os.listdir(base_dir))*DATA_POINTS_PER_FILE\n",
        "  assert df.shape[0]==len(_)*DATA_POINTS_PER_FILE\n",
        "  with open(out_file, 'wb') as pfile:\n",
        "    pkl.dump(df, pfile)\n",
        "  print('{0} saved'.format(out_file))\n",
        "\n",
        "DATA_POINTS_PER_FILE=2560\n",
        "'''\n",
        "Storing all directory(base_dir) files into single combined files (pickle(.pkz) files). That means all files of Bearing1_7 directory will be stored and saved \n",
        "as bearing1_7.pkz file (this file contains all the data files of Bearing1_7 directory). Same for remaining 10 files (10 test data files).\n",
        "'''\n",
        "main_dir0 = '../__datasets/ieee-phm-2012-data-challenge-dataset/Full_Test_Set/'\n",
        "main_dir = 'datas/'\n",
        "base_dir, out_file= main_dir0+'Bearing1_3/', main_dir+'bearing1_3.pkz'\n",
        "process(base_dir, out_file)\n",
        "base_dir, out_file= main_dir0+'Bearing1_4/', main_dir+'bearing1_4.pkz'\n",
        "process(base_dir, out_file)\n",
        "base_dir, out_file= main_dir0+'Bearing1_5/', main_dir+'bearing1_5.pkz'\n",
        "process(base_dir, out_file)\n",
        "base_dir, out_file= main_dir0+'Bearing1_6/', main_dir+'bearing1_6.pkz'\n",
        "process(base_dir, out_file)\n",
        "base_dir, out_file= main_dir0+'Bearing1_7/', main_dir+'bearing1_7.pkz'\n",
        "process(base_dir, out_file)\n",
        "base_dir, out_file= main_dir0+'Bearing2_3/', main_dir+'bearing2_3.pkz'\n",
        "process(base_dir, out_file)\n",
        "base_dir, out_file= main_dir0+'Bearing2_4/', main_dir+'bearing2_4.pkz'\n",
        "process(base_dir, out_file)\n",
        "base_dir, out_file= main_dir0+'Bearing2_5/', main_dir+'bearing2_5.pkz'\n",
        "process(base_dir, out_file)\n",
        "base_dir, out_file= main_dir0+'Bearing2_6/', main_dir+'bearing2_6.pkz'\n",
        "process(base_dir, out_file)\n",
        "base_dir, out_file= main_dir0+'Bearing2_7/', main_dir+'bearing2_7.pkz'\n",
        "process(base_dir, out_file)\n",
        "base_dir, out_file= main_dir0+'Bearing3_3/', main_dir+'bearing3_3.pkz'\n",
        "process(base_dir, out_file)"
      ]
    }
  ],
  "metadata": {
    "colab": {
      "collapsed_sections": [],
      "name": "Test_Data_pkz.ipynb",
      "provenance": []
    },
    "kernelspec": {
      "display_name": "Python 3",
      "name": "python3"
    },
    "language_info": {
      "codemirror_mode": {
        "name": "ipython",
        "version": 3
      },
      "file_extension": ".py",
      "mimetype": "text/x-python",
      "name": "python",
      "nbconvert_exporter": "python",
      "pygments_lexer": "ipython3",
      "version": "3.11.11"
    }
  },
  "nbformat": 4,
  "nbformat_minor": 0
}
